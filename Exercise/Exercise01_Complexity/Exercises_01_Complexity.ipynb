{
 "cells": [
  {
   "cell_type": "markdown",
   "metadata": {},
   "source": [
    "# Exercises - Complexity"
   ]
  },
  {
   "cell_type": "markdown",
   "metadata": {},
   "source": [
    "## Exercise 1.\n",
    "Suppose we have a computer which can perform 1 million (= $10^6$) operations per second. \n",
    "\n",
    "The formulas below denote the running time of some algorithms (in number of operations) depending on the number of elements $n$ we feed to the algorithm. Determine for each algorithm how many elements can be processed in 1 minute.\n",
    "\n",
    "1. $n$\n",
    "2. $n^2$\n",
    "3. $n^3$\n",
    "4. $n!$ _(This is called n factorial)_\n",
    "5. $n*lg(n)$\n",
    "6. $2^n$\n",
    "7. $\\sqrt n$\n",
    "8. $n^{50}$\n",
    "9. $2^n$\n"
   ]
  },
  {
   "cell_type": "markdown",
   "metadata": {},
   "source": [
    "1. $6$*$10^7$\n",
    "2. $2×10^3×\\sqrt 15$ = 7745\n",
    "3. $100×\\sqrt[3] 60$ = 291\n",
    "4. $11$\n",
    "5. $8649296$\n",
    "6. $log2(6$*$10^7)$ = 25\n",
    "7. $36×10^{14}$\n",
    "8. $(6×10^7)^{1/50}$ = 1\n",
    "9. $log2(6×10^7)$ = 25"
   ]
  },
  {
   "cell_type": "code",
   "execution_count": 2,
   "metadata": {
    "scrolled": true
   },
   "outputs": [
    {
     "data": {
      "text/plain": [
       "1.430747596480305"
      ]
     },
     "execution_count": 2,
     "metadata": {},
     "output_type": "execute_result"
    }
   ],
   "source": [
    "import math\n",
    "pow(60000000,1/50)"
   ]
  },
  {
   "cell_type": "code",
   "execution_count": 3,
   "metadata": {},
   "outputs": [
    {
     "data": {
      "text/plain": [
       "25.838459164932694"
      ]
     },
     "execution_count": 3,
     "metadata": {},
     "output_type": "execute_result"
    }
   ],
   "source": [
    "import math\n",
    "math.log2(60000000)"
   ]
  },
  {
   "cell_type": "markdown",
   "metadata": {},
   "source": [
    "## Exercise 2.\n",
    "Sort the functions below following $O(.)$\n",
    "\n",
    "1. $n$\n",
    "2. $10^6 - n^3 + 3n^5$\n",
    "3. $2^n$\n",
    "4. $n^2$\n",
    "5. $n*lg(n)$\n",
    "6. $\\sqrt n$\n",
    "7. $n!$\n"
   ]
  },
  {
   "cell_type": "code",
   "execution_count": 29,
   "metadata": {},
   "outputs": [
    {
     "data": {
      "image/png": "[encoded data removed]",
      "text/plain": [
       "<Figure size 432x288 with 1 Axes>"
      ]
     },
     "metadata": {
      "needs_background": "light"
     },
     "output_type": "display_data"
    }
   ],
   "source": [
    "import matplotlib.pyplot as plt\n",
    "import numpy as np\n",
    "import math\n",
    "\n",
    "# Data for plotting\n",
    "\n",
    "maxX = 10\n",
    "maxY = 100\n",
    "\n",
    "n = np.linspace(0, maxX)\n",
    "n1 = np.linspace(0.1, maxX)\n",
    "f1 = n\n",
    "f2 = 10**6-n**3+3*(n**5)\n",
    "f3 = 2**n\n",
    "f4 = n**2\n",
    "f5 = n * np.log2(n1)\n",
    "f6 = np.sqrt(n)\n",
    "\n",
    "fig, ax = plt.subplots()\n",
    "ax.plot(n1, f1, label = \"n\")\n",
    "ax.plot(n, f2, label = \"10**6-n**3+3*(n**5)\")\n",
    "ax.plot(n, f3, label = \"2**n\")\n",
    "ax.plot(n1, f4, label = \"n**2\")\n",
    "ax.plot(n, f5, label = \"n*lg(n)\")\n",
    "ax.plot(n, f6, label = \"sqrt(n)\")\n",
    "\n",
    "ax.set_ylim([-1, maxY])\n",
    "\n",
    "ax.grid()\n",
    "plt.legend()\n",
    "plt.show()"
   ]
  },
  {
   "cell_type": "markdown",
   "metadata": {},
   "source": [
    "$n!$>$10^6 - n^3 + 3n^5$>$2^n$>$n^2$>$n*lg(n)$>n>$\\sqrt n$"
   ]
  },
  {
   "cell_type": "markdown",
   "metadata": {},
   "source": [
    "## Exercise 3.\n",
    "In mathematics, a factorial of a positive integer $n$ is denoted by $n!$. This is the product of all positive integers less than or equal to $n$. This can be given by the following set of equations:\n",
    "\n",
    "- $n! = n * (n-1)!$\n",
    "- $0! = 1$\n",
    "\n",
    "write a recursive function (so a function that calls itself within its definition) that returns the factorial of a number $n$\n"
   ]
  },
  {
   "cell_type": "code",
   "execution_count": 2,
   "metadata": {},
   "outputs": [],
   "source": [
    "def Factorial(n):\n",
    "    if n == 0:\n",
    "        print(1)\n",
    "    else:\n",
    "        for i in range(1,n-1):\n",
    "            n = n*i\n",
    "            print(n)"
   ]
  },
  {
   "cell_type": "markdown",
   "metadata": {},
   "source": [
    "Now comment on what you think the order complexity of the function is. "
   ]
  },
  {
   "cell_type": "markdown",
   "metadata": {},
   "source": [
    "T(n)=T(n−1)+O(1)\n",
    "=T(n−2)+2O(1) =...=T(1)+(n−1)O(1)\n",
    "=O(1)+(n−1)O(1)=O(n)"
   ]
  },
  {
   "cell_type": "markdown",
   "metadata": {},
   "source": [
    "## Exercise 6\n",
    "Give the complexity in $O(.)$ of the following (dummy) algorithms, and explain why.  \n"
   ]
  },
  {
   "cell_type": "code",
   "execution_count": 5,
   "metadata": {},
   "outputs": [],
   "source": [
    "def algorithm1(n):\n",
    "    s = 0\n",
    "    i = 0\n",
    "    while i<n:\n",
    "        s += 1\n",
    "        i += 1\n",
    "    return(s,i)"
   ]
  },
  {
   "cell_type": "markdown",
   "metadata": {},
   "source": [
    "O(n)\n",
    "\n",
    "reason: O(3+3n)——O(n)"
   ]
  },
  {
   "cell_type": "code",
   "execution_count": 11,
   "metadata": {},
   "outputs": [],
   "source": [
    "def algorithm2(n):\n",
    "    s = 0\n",
    "    i = 0\n",
    "    while i<n:\n",
    "        j = 0\n",
    "        while j<n:\n",
    "            s += 1\n",
    "            j += 1\n",
    "        i += 1\n",
    "    return(s,i,j)"
   ]
  },
  {
   "cell_type": "markdown",
   "metadata": {},
   "source": [
    "O(𝑛²)\n",
    "\n",
    "reason:\n",
    "a while loop in the while loop, so there are two layers of n cycles"
   ]
  },
  {
   "cell_type": "code",
   "execution_count": 12,
   "metadata": {},
   "outputs": [],
   "source": [
    "def algorithm3(n):\n",
    "    s = 0\n",
    "    i = 0\n",
    "    while i<n:\n",
    "        j = 0\n",
    "        while j<n*n:\n",
    "            s += 1\n",
    "            j += 1\n",
    "        i += 1\n",
    "    return(s,i,j)"
   ]
  },
  {
   "cell_type": "markdown",
   "metadata": {},
   "source": [
    "O(n³)\n",
    "\n",
    "reason：\n",
    "\n",
    "while i<n——n\n",
    "\n",
    "while j <n*$n$ ——n²\n",
    "\n",
    "all in all: n³"
   ]
  }
 ],
 "metadata": {
  "kernelspec": {
   "display_name": "Python 3 (ipykernel)",
   "language": "python",
   "name": "python3"
  },
  "language_info": {
   "codemirror_mode": {
    "name": "ipython",
    "version": 3
   },
   "file_extension": ".py",
   "mimetype": "text/x-python",
   "name": "python",
   "nbconvert_exporter": "python",
   "pygments_lexer": "ipython3",
   "version": "3.9.7"
  }
 },
 "nbformat": 4,
 "nbformat_minor": 2
}
