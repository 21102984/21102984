{
 "cells": [
  {
   "cell_type": "code",
   "execution_count": 341,
   "id": "90255a12",
   "metadata": {},
   "outputs": [],
   "source": [
    "import os\n",
    "import networkx as nx\n",
    "from networkx import clustering as cl\n",
    "import csv\n",
    "import matplotlib.pyplot as plt\n",
    "from pyvis.network import Network"
   ]
  },
  {
   "cell_type": "code",
   "execution_count": 342,
   "id": "0595d2d8",
   "metadata": {},
   "outputs": [
    {
     "name": "stdout",
     "output_type": "stream",
     "text": [
      "Requirement already satisfied: pyvis in c:\\users\\syq65\\anaconda3\\lib\\site-packages (0.1.9)\n",
      "Requirement already satisfied: ipython>=5.3.0 in c:\\users\\syq65\\anaconda3\\lib\\site-packages (from pyvis) (7.29.0)\n",
      "Requirement already satisfied: networkx>=1.11 in c:\\users\\syq65\\anaconda3\\lib\\site-packages (from pyvis) (2.6.3)\n",
      "Requirement already satisfied: jinja2>=2.9.6 in c:\\users\\syq65\\anaconda3\\lib\\site-packages (from pyvis) (2.11.3)\n",
      "Requirement already satisfied: jsonpickle>=1.4.1 in c:\\users\\syq65\\anaconda3\\lib\\site-packages (from pyvis) (2.0.0)\n",
      "Requirement already satisfied: decorator in c:\\users\\syq65\\anaconda3\\lib\\site-packages (from ipython>=5.3.0->pyvis) (5.1.0)\n",
      "Requirement already satisfied: setuptools>=18.5 in c:\\users\\syq65\\anaconda3\\lib\\site-packages (from ipython>=5.3.0->pyvis) (58.0.4)\n",
      "Requirement already satisfied: pygments in c:\\users\\syq65\\anaconda3\\lib\\site-packages (from ipython>=5.3.0->pyvis) (2.10.0)\n",
      "Requirement already satisfied: jedi>=0.16 in c:\\users\\syq65\\anaconda3\\lib\\site-packages (from ipython>=5.3.0->pyvis) (0.18.0)\n",
      "Requirement already satisfied: colorama in c:\\users\\syq65\\anaconda3\\lib\\site-packages (from ipython>=5.3.0->pyvis) (0.4.4)\n",
      "Requirement already satisfied: prompt-toolkit!=3.0.0,!=3.0.1,<3.1.0,>=2.0.0 in c:\\users\\syq65\\anaconda3\\lib\\site-packages (from ipython>=5.3.0->pyvis) (3.0.20)\n",
      "Requirement already satisfied: matplotlib-inline in c:\\users\\syq65\\anaconda3\\lib\\site-packages (from ipython>=5.3.0->pyvis) (0.1.2)\n",
      "Requirement already satisfied: pickleshare in c:\\users\\syq65\\anaconda3\\lib\\site-packages (from ipython>=5.3.0->pyvis) (0.7.5)\n",
      "Requirement already satisfied: traitlets>=4.2 in c:\\users\\syq65\\anaconda3\\lib\\site-packages (from ipython>=5.3.0->pyvis) (5.1.0)\n",
      "Requirement already satisfied: backcall in c:\\users\\syq65\\anaconda3\\lib\\site-packages (from ipython>=5.3.0->pyvis) (0.2.0)\n",
      "Requirement already satisfied: parso<0.9.0,>=0.8.0 in c:\\users\\syq65\\anaconda3\\lib\\site-packages (from jedi>=0.16->ipython>=5.3.0->pyvis) (0.8.2)\n",
      "Requirement already satisfied: MarkupSafe>=0.23 in c:\\users\\syq65\\anaconda3\\lib\\site-packages (from jinja2>=2.9.6->pyvis) (1.1.1)\n",
      "Requirement already satisfied: wcwidth in c:\\users\\syq65\\anaconda3\\lib\\site-packages (from prompt-toolkit!=3.0.0,!=3.0.1,<3.1.0,>=2.0.0->ipython>=5.3.0->pyvis) (0.2.5)\n"
     ]
    }
   ],
   "source": [
    "!pip install pyvis"
   ]
  },
  {
   "cell_type": "code",
   "execution_count": 343,
   "id": "cc67e4ea",
   "metadata": {},
   "outputs": [],
   "source": [
    "class UsedCar:\n",
    "    def __init__(self, brand, modelname, price, brandrank, carAge, label):\n",
    "        self.brand = brand\n",
    "        self.modelname = modelname\n",
    "        self.price = price\n",
    "        self.brandrank = brandrank\n",
    "        self.carAge = carAge\n",
    "        self.label = label"
   ]
  },
  {
   "cell_type": "code",
   "execution_count": 344,
   "id": "e684b6c8",
   "metadata": {},
   "outputs": [],
   "source": [
    "Cars = []\n",
    "with open(\"UsedCar.csv\") as csvfile:\n",
    "    reader = csv.DictReader(csvfile)\n",
    "    for row in reader:\n",
    "        brand = row['brand']\n",
    "        modelname = row['modelname']\n",
    "        price = row['price']\n",
    "        brandrank = row[\"brandrank\"]\n",
    "        carAge = row['carAge']\n",
    "        label = brand + '--' +'\"$:' + price + '\"'\n",
    "        Cars.append(UsedCar(brand, modelname, price, brandrank, carAge, label))"
   ]
  },
  {
   "cell_type": "code",
   "execution_count": 345,
   "id": "c674366f",
   "metadata": {},
   "outputs": [],
   "source": [
    "UsedCarGraph = nx.Graph()"
   ]
  },
  {
   "cell_type": "code",
   "execution_count": 346,
   "id": "007d5e53",
   "metadata": {},
   "outputs": [],
   "source": [
    "UsedCarInfo = Cars[0:75]"
   ]
  },
  {
   "cell_type": "code",
   "execution_count": 347,
   "id": "7115e95b",
   "metadata": {},
   "outputs": [],
   "source": [
    "for c in UsedCarInfo:\n",
    "    if int(c.price)<= 500000:\n",
    "        UsedCarGraph.add_node(c.label, label = c.label, size=3,color='grey')\n",
    "    elif int(c.price)>500000 and int(c.price)<=2000000:\n",
    "        UsedCarGraph.add_node(c.label, label = c.label, size=5,color='blue')\n",
    "    elif int(c.price)>2000000 and int(c.price)<=4000000:\n",
    "        UsedCarGraph.add_node(c.label, label = c.label,size=7,color='green')\n",
    "    elif int(c.price)>4000000 :\n",
    "        UsedCarGraph.add_node(c.label, label = c.label, size=15,color='yellow')"
   ]
  },
  {
   "cell_type": "code",
   "execution_count": 348,
   "id": "dccbbe82",
   "metadata": {},
   "outputs": [],
   "source": [
    "for c1 in UsedCarInfo:\n",
    "    for c2 in UsedCarInfo:\n",
    "        if not c1 == c2:\n",
    "            if c1.brandrank == c2.brandrank:\n",
    "                UsedCarGraph.add_edge(c1.label, c2.label, color = 'green')\n",
    "            if c1.brand == c2.brand:\n",
    "                UsedCarGraph.add_edge(c1.label, c2.label, color = 'orange')\n",
    "            if c1.carAge == c2.carAge:\n",
    "                UsedCarGraph.add_edge(c1.label, c2.label, color = 'purple')"
   ]
  },
  {
   "cell_type": "code",
   "execution_count": 349,
   "id": "d1453b99",
   "metadata": {},
   "outputs": [],
   "source": [
    "from pyvis.network import Network\n",
    "nt = Network('800px', '800px')\n",
    "nt.toggle_hide_edges_on_drag(True)\n",
    "nt.barnes_hut()\n",
    "nt.from_nx(UsedCarGraph)\n",
    "nt.show_buttons(filter_=['physics'])\n",
    "nt.show('nx.html')"
   ]
  },
  {
   "cell_type": "markdown",
   "id": "90f0f5d3",
   "metadata": {},
   "source": [
    "The table gives information about used-cars. The orange line connects cars with the same brand rank, the grey line connects cars with the same brand and the green line connects cars with the same age. It is obvious that Lamborghini is the most valuable, Mercedes-Benz and Bentley cars are also very expensive."
   ]
  }
 ],
 "metadata": {
  "kernelspec": {
   "display_name": "Python 3 (ipykernel)",
   "language": "python",
   "name": "python3"
  },
  "language_info": {
   "codemirror_mode": {
    "name": "ipython",
    "version": 3
   },
   "file_extension": ".py",
   "mimetype": "text/x-python",
   "name": "python",
   "nbconvert_exporter": "python",
   "pygments_lexer": "ipython3",
   "version": "3.9.7"
  }
 },
 "nbformat": 4,
 "nbformat_minor": 5
}
