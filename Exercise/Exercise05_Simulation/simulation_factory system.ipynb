{
 "cells": [
  {
   "cell_type": "markdown",
   "id": "7551063e",
   "metadata": {},
   "source": [
    "### Introductions:\n",
    "1. in a factory, there are **50 machines, each works 8 hours/day, 5 days/week**.\n",
    "2. each machine fails after duration **between 100 and 150 hours**.\n",
    "3. if spares are available,the failed machine will be sent to be repaired. If not, **20 dollars/hour/machine** to count loss of productivity.\n",
    "4. repairer fixes failed machine in **4-10 hours**, repairer costs **3.75 dollars/hour**, after repairing, returns to spares.\n",
    "5. purchase spares **30 dollars/day.**\n",
    "\n",
    "\n",
    "*This can be applied to minimize the total cost of operating the factory including the cost of hiring workers,spare machines.*"
   ]
  },
  {
   "cell_type": "code",
   "execution_count": 267,
   "id": "883acd68",
   "metadata": {},
   "outputs": [],
   "source": [
    "import simpy\n",
    "import numpy as np\n",
    "import matplotlib.pyplot as plt"
   ]
  },
  {
   "cell_type": "code",
   "execution_count": 268,
   "id": "8425adbe",
   "metadata": {},
   "outputs": [],
   "source": [
    "# when the factory runs,generator starts,it launches all 50 of these machine tasks.\n",
    "def factory_run(env,repairers,spares):\n",
    "    global cost\n",
    "    cost=0\n",
    "    \n",
    "    # launching 50 machines\n",
    "    for i in range(50):\n",
    "        env.process(operate_machine(env,repairers,spares))\n",
    "        \n",
    "    # managing the costs \n",
    "    while True:\n",
    "        cost += 3.75*8*repairers.capacity + 30*spares.capacity # cost = repair cost + perchase spare cost\n",
    "        yield env.timeout(8.0) # repeat every 8 hours"
   ]
  },
  {
   "cell_type": "code",
   "execution_count": 269,
   "id": "1a703d17",
   "metadata": {},
   "outputs": [],
   "source": [
    "# operate machine: 1. wait for a certain duration   2. repair pricess  3. request a spare and add in costs\n",
    "def operate_machine(env,repairers,spares):\n",
    "    global cost\n",
    "    \n",
    "    while True:\n",
    "        yield env.timeout(time_to_failure())\n",
    "        t_broken = env.now # machine is broken, store this in a temporary variable t_broken is the current environment time.\n",
    "       \n",
    "        #launch repair process\n",
    "        env.process(repair_machine(env,repairers,spares))\n",
    "        yield spares.get(1)\n",
    "        t_replaced = env.now # the machine is replaced, get a spare\n",
    "        \n",
    "        cost += 20*(t_replaced-t_broken) #If not, $20/hour/machine to count loss of productivity."
   ]
  },
  {
   "cell_type": "code",
   "execution_count": 270,
   "id": "499436eb",
   "metadata": {},
   "outputs": [],
   "source": [
    "# repair machine\n",
    "def repair_machine(env,repairers,spares):\n",
    "    with repairers.request() as request:\n",
    "        yield request\n",
    "        yield env.timeout(generate_repair_time()) # wait for the repair to become available.\n",
    "        yield spares.put(1) # after the repair process be completed, put the spare back in the spare pool."
   ]
  },
  {
   "cell_type": "code",
   "execution_count": 271,
   "id": "619d21b5",
   "metadata": {},
   "outputs": [],
   "source": [
    "def generate_time_to_failure():\n",
    "    return np.random.uniform(100, 150) # waiting for the machine to break, it follows a uniform distribution between 100 and 150 hours."
   ]
  },
  {
   "cell_type": "code",
   "execution_count": 272,
   "id": "2f74a7cd",
   "metadata": {},
   "outputs": [],
   "source": [
    "def generate_repair_time():\n",
    "    return np.random.uniform(4, 10)"
   ]
  },
  {
   "cell_type": "code",
   "execution_count": 273,
   "id": "a352cde1",
   "metadata": {},
   "outputs": [],
   "source": [
    "observation_times = []\n",
    "observation_cost = []\n",
    "observation_spares = []"
   ]
  },
  {
   "cell_type": "code",
   "execution_count": 274,
   "id": "cf190d08",
   "metadata": {},
   "outputs": [],
   "source": [
    "# observe the simulation.\n",
    "def observe(env, spares):\n",
    "    while True:\n",
    "        observation_times.append(env.now)\n",
    "        observation_cost.append(cost)\n",
    "        observation_spares.append(spares.level)\n",
    "        yield env.timeout(1.0) # happen every 1 hour."
   ]
  },
  {
   "cell_type": "code",
   "execution_count": 275,
   "id": "976acc52",
   "metadata": {},
   "outputs": [],
   "source": [
    "# simpy environment and run the environment for a year\n",
    "np.random.seed(0)\n",
    "env = simpy.Environment()\n",
    "\n",
    "# sharing resources\n",
    "repairers = simpy.Resource(env,capacity = 3) # starting capacity = 3 repairers on staff\n",
    "spares = simpy.Container(env, init=10, capacity=10) # initially there are 20 spares,total capacity for spares is also 20.\n",
    "\n",
    "env.process(factory_run(env,repairers,spares))\n",
    "env.process(observe(env, spares))\n",
    "env.run(until=8*5*52) # 40 hours is not long enough for any failures to actually take place, so expand this from 40 hours for one work week to a year(52weeks).\n"
   ]
  },
  {
   "cell_type": "code",
   "execution_count": 276,
   "id": "e6cc4de5",
   "metadata": {
    "scrolled": true
   },
   "outputs": [
    {
     "data": {
      "text/plain": [
       "Text(0, 0.5, 'Spares level')"
      ]
     },
     "execution_count": 276,
     "metadata": {},
     "output_type": "execute_result"
    },
    {
     "data": {
      "image/png": "[encoded data removed]",
      "text/plain": [
       "<Figure size 432x288 with 1 Axes>"
      ]
     },
     "metadata": {
      "needs_background": "light"
     },
     "output_type": "display_data"
    }
   ],
   "source": [
    "plt.figure()\n",
    "plt.step(observation_times,observation_spares, where=\"post\")\n",
    "plt.xlabel(\"Time (hours)\")\n",
    "plt.ylabel(\"Spares level\")"
   ]
  },
  {
   "cell_type": "code",
   "execution_count": 277,
   "id": "75306010",
   "metadata": {
    "scrolled": true
   },
   "outputs": [
    {
     "data": {
      "text/plain": [
       "Text(0, 0.5, 'Cost Incurred')"
      ]
     },
     "execution_count": 277,
     "metadata": {},
     "output_type": "execute_result"
    },
    {
     "data": {
      "image/png": "[encoded data removed]",
      "text/plain": [
       "<Figure size 432x288 with 1 Axes>"
      ]
     },
     "metadata": {
      "needs_background": "light"
     },
     "output_type": "display_data"
    }
   ],
   "source": [
    "plt.figure()\n",
    "plt.step(observation_times,observation_cost, where=\"post\")\n",
    "plt.xlabel(\"Time(hours)\")\n",
    "plt.ylabel(\"Cost Incurred\")"
   ]
  },
  {
   "cell_type": "code",
   "execution_count": 281,
   "id": "60310b0c",
   "metadata": {
    "scrolled": true
   },
   "outputs": [
    {
     "name": "stdout",
     "output_type": "stream",
     "text": [
      "1.0\n",
      "117777.97467016918\n",
      "[10, 10, 10, 10, 10, 10, 10, 10, 10, 10, 10, 10, 10, 10, 10, 10, 10, 10, 10, 10, 10, 10, 10, 10, 10, 10, 10, 10, 10, 10, 10, 10, 10, 10, 10, 10, 10, 10, 10, 10, 10, 10, 10, 10, 10, 10, 10, 10, 10, 10, 10, 10, 10, 10, 10, 10, 10, 10, 10, 10, 10, 10, 10, 10, 10, 10, 10, 10, 10, 10, 10, 10, 10, 10, 10, 10, 10, 10, 10, 10, 10, 10, 10, 10, 10, 10, 10, 10, 10, 10, 10, 10, 10, 10, 10, 10, 10, 10, 10, 10, 10, 10, 10, 10, 10, 10, 10, 10, 10, 10, 10, 10, 10, 10, 10, 10, 10, 10, 10, 10, 10, 10, 10, 10, 10, 10, 10, 10, 10, 10, 10, 10, 10, 9, 8, 8, 6, 5, 5, 4, 5, 5, 5, 4, 4, 6, 5, 5, 5, 5, 4, 4, 3, 2, 0, 0, 0, 0, 0, 0, 0, 0, 0, 0, 0, 0, 0, 0, 0, 0, 0, 0, 0, 0, 0, 0, 0, 0, 0, 0, 0, 0, 0, 0, 0, 0, 0, 0, 0, 0, 0, 0, 0, 0, 0, 0, 0, 0, 0, 0, 0, 0, 0, 0, 0, 0, 0, 0, 0, 0, 0, 0, 0, 0, 0, 0, 0, 0, 0, 0, 0, 0, 0, 0, 0, 0, 0, 0, 0, 0, 0, 0, 1, 1, 1, 1, 1, 1, 2, 3, 3, 4, 4, 4, 4, 4, 5, 7, 7, 7, 7, 7, 7, 7, 7, 9, 9, 10, 10, 10, 10, 10, 10, 10, 10, 10, 10, 10, 10, 10, 10, 10, 10, 10, 10, 10, 10, 9, 8, 7, 7, 7, 6, 4, 4, 2, 4, 4, 4, 4, 4, 4, 4, 4, 3, 3, 4, 4, 5, 5, 5, 2, 3, 4, 5, 5, 4, 4, 3, 4, 3, 3, 4, 4, 3, 1, 1, 2, 2, 2, 3, 4, 3, 4, 4, 4, 6, 5, 4, 4, 4, 4, 5, 6, 6, 5, 5, 6, 6, 7, 7, 8, 7, 8, 8, 8, 7, 7, 7, 6, 5, 6, 8, 8, 8, 8, 8, 9, 10, 10, 10, 10, 9, 6, 5, 5, 5, 4, 4, 3, 1, 1, 3, 3, 2, 1, 2, 3, 3, 4, 4, 4, 4, 4, 4, 4, 4, 4, 4, 4, 4, 6, 6, 6, 6, 6, 8, 9, 9, 9, 9, 9, 9, 10, 10, 10, 10, 10, 10, 10, 10, 10, 10, 10, 10, 10, 10, 8, 7, 7, 6, 6, 6, 7, 7, 7, 9, 9, 9, 9, 10, 10, 10, 10, 9, 8, 7, 7, 7, 7, 9, 9, 9, 7, 6, 7, 7, 7, 6, 6, 6, 8, 8, 8, 6, 6, 6, 6, 6, 6, 7, 7, 8, 6, 6, 6, 6, 5, 5, 6, 6, 6, 6, 4, 4, 3, 3, 3, 3, 4, 5, 5, 4, 5, 5, 4, 4, 4, 4, 5, 5, 5, 5, 8, 8, 8, 8, 8, 9, 10, 9, 8, 8, 8, 8, 9, 8, 8, 8, 8, 9, 9, 7, 7, 8, 7, 7, 6, 6, 7, 8, 7, 7, 7, 6, 7, 6, 7, 5, 6, 6, 7, 7, 7, 6, 6, 7, 7, 8, 7, 7, 7, 8, 7, 7, 7, 8, 9, 9, 9, 9, 9, 9, 8, 8, 9, 9, 9, 9, 9, 9, 9, 9, 10, 10, 10, 9, 9, 8, 8, 8, 9, 9, 9, 9, 10, 10, 10, 10, 8, 7, 7, 7, 7, 8, 8, 8, 8, 8, 7, 8, 8, 8, 8, 8, 7, 8, 8, 8, 8, 7, 6, 7, 7, 8, 8, 8, 8, 9, 9, 8, 8, 8, 8, 7, 8, 9, 8, 8, 8, 7, 7, 7, 7, 8, 8, 8, 8, 8, 6, 6, 7, 7, 6, 6, 7, 7, 6, 6, 6, 6, 6, 5, 5, 7, 8, 8, 8, 7, 7, 8, 7, 6, 7, 6, 6, 6, 6, 8, 9, 9, 8, 8, 7, 7, 5, 5, 5, 7, 7, 5, 5, 5, 5, 4, 4, 4, 4, 6, 5, 5, 5, 6, 6, 6, 7, 7, 6, 7, 7, 7, 6, 6, 7, 8, 8, 8, 8, 7, 8, 7, 8, 8, 8, 9, 9, 9, 9, 9, 9, 9, 9, 9, 10, 9, 9, 8, 8, 8, 8, 8, 8, 7, 7, 8, 8, 8, 8, 8, 7, 8, 7, 7, 7, 8, 9, 9, 9, 8, 8, 8, 9, 9, 9, 10, 10, 10, 10, 9, 9, 9, 9, 9, 9, 8, 8, 8, 9, 9, 10, 10, 10, 10, 10, 10, 9, 9, 9, 7, 7, 7, 6, 5, 6, 6, 6, 6, 5, 5, 5, 6, 7, 7, 6, 6, 6, 5, 5, 6, 5, 5, 6, 5, 5, 4, 3, 3, 5, 4, 3, 3, 2, 1, 0, 2, 1, 0, 0, 0, 0, 0, 0, 0, 2, 2, 2, 3, 1, 1, 1, 2, 2, 2, 2, 2, 3, 3, 2, 3, 3, 3, 2, 2, 2, 3, 3, 4, 4, 3, 4, 4, 5, 5, 7, 7, 6, 6, 7, 6, 7, 7, 7, 7, 7, 7, 8, 8, 9, 9, 10, 10, 10, 9, 9, 9, 9, 9, 9, 9, 7, 8, 8, 8, 9, 9, 9, 9, 9, 9, 9, 9, 9, 9, 8, 9, 9, 9, 8, 9, 9, 9, 9, 9, 9, 10, 10, 9, 8, 7, 6, 5, 6, 6, 6, 7, 7, 7, 8, 7, 7, 8, 8, 8, 9, 9, 9, 9, 9, 10, 10, 9, 9, 8, 8, 7, 6, 6, 6, 7, 8, 8, 8, 9, 8, 7, 8, 8, 8, 8, 7, 7, 6, 4, 4, 5, 5, 5, 5, 2, 3, 0, 0, 0, 0, 0, 0, 0, 0, 0, 0, 0, 0, 0, 0, 0, 0, 0, 1, 1, 1, 0, 0, 0, 1, 1, 1, 1, 2, 2, 2, 2, 3, 2, 3, 3, 2, 3, 2, 1, 2, 2, 1, 2, 2, 2, 3, 5, 5, 5, 5, 5, 6, 7, 8, 8, 8, 8, 8, 8, 8, 8, 8, 9, 10, 10, 10, 9, 9, 9, 9, 9, 9, 9, 9, 8, 9, 9, 9, 9, 9, 8, 8, 8, 8, 9, 9, 7, 8, 8, 7, 7, 6, 6, 7, 8, 8, 8, 8, 10, 9, 9, 9, 9, 10, 10, 9, 9, 9, 9, 9, 10, 9, 8, 7, 7, 6, 5, 5, 6, 6, 6, 8, 8, 8, 7, 7, 8, 9, 8, 6, 6, 5, 5, 6, 7, 7, 7, 7, 8, 8, 9, 10, 9, 9, 8, 7, 6, 5, 6, 6, 6, 5, 5, 5, 5, 4, 4, 4, 5, 4, 4, 4, 3, 3, 3, 3, 2, 2, 2, 3, 3, 4, 4, 4, 4, 3, 4, 4, 5, 6, 5, 6, 5, 6, 6, 6, 7, 7, 7, 7, 7, 7, 8, 8, 8, 9, 8, 8, 8, 8, 8, 7, 7, 7, 7, 7, 7, 9, 8, 8, 8, 8, 8, 9, 9, 9, 8, 8, 8, 8, 9, 9, 9, 10, 10, 10, 10, 10, 9, 9, 9, 9, 9, 10, 10, 9, 9, 8, 8, 8, 8, 8, 9, 9, 9, 10, 10, 9, 9, 8, 8, 7, 8, 7, 7, 7, 7, 8, 9, 9, 10, 8, 8, 8, 7, 6, 5, 5, 5, 5, 5, 6, 6, 6, 6, 7, 7, 6, 6, 6, 6, 7, 7, 6, 7, 6, 7, 7, 7, 8, 8, 7, 5, 5, 5, 5, 4, 4, 4, 4, 4, 5, 3, 3, 3, 3, 5, 5, 5, 5, 4, 3, 2, 2, 1, 2, 2, 2, 2, 3, 4, 3, 3, 3, 3, 5, 5, 5, 5, 6, 5, 6, 6, 7, 7, 8, 8, 8, 8, 8, 8, 9, 9, 8, 8, 9, 9, 10, 9, 9, 9, 9, 10, 9, 9, 9, 9, 9, 8, 8, 8, 8, 6, 6, 6, 6, 5, 7, 8, 5, 5, 4, 4, 5, 6, 7, 7, 7, 8, 9, 9, 9, 9, 9, 10, 10, 10, 10, 10, 10, 10, 10, 10, 10, 10, 10, 10, 10, 10, 10, 9, 9, 9, 9, 9, 9, 9, 8, 8, 9, 7, 7, 7, 7, 6, 6, 6, 6, 6, 7, 7, 7, 8, 8, 8, 9, 8, 8, 8, 8, 8, 7, 6, 6, 6, 7, 6, 7, 7, 6, 5, 7, 6, 4, 5, 4, 3, 4, 5, 5, 6, 5, 5, 4, 4, 5, 5, 5, 5, 5, 6, 5, 5, 6, 4, 3, 3, 2, 2, 3, 3, 4, 4, 5, 5, 6, 6, 7, 7, 7, 7, 7, 7, 8, 8, 8, 8, 8, 9, 9, 10, 9, 9, 9, 9, 9, 8, 8, 8, 8, 8, 6, 7, 7, 7, 8, 7, 7, 7, 7, 7, 8, 9, 9, 9, 10, 9, 9, 9, 9, 9, 10, 10, 10, 8, 8, 8, 8, 9, 9, 9, 9, 8, 8, 7, 7, 8, 7, 8, 8, 8, 8, 9, 10, 10, 10, 8, 8, 8, 8, 8, 8, 9, 9, 10, 9, 9, 9, 8, 8, 7, 8, 8, 8, 7, 7, 8, 8, 8, 8, 10, 9, 9, 9, 9, 8, 8, 8, 8, 8, 8, 8, 7, 8, 8, 8, 9, 8, 8, 9, 8, 8, 7, 7, 7, 7, 7, 6, 6, 6, 6, 8, 8, 9, 9, 8, 8, 8, 9, 9, 10, 9, 9, 9, 8, 8, 7, 7, 6, 6, 5, 5, 4, 2, 2, 2, 2, 2, 1, 1, 2, 3, 4, 3, 3, 3, 3, 4, 5, 4, 4, 4, 5, 5, 5, 7, 6, 6, 6, 7, 7, 8, 9, 9, 8, 8, 8, 7, 7, 9, 9, 8, 8, 8, 9, 8, 6, 6, 6, 5, 5, 6, 6, 5, 6, 7, 5, 5, 4, 5, 6, 6, 5, 5, 6, 5, 4, 4, 4, 5, 6, 7, 7, 7, 7, 8, 8, 10, 9, 9, 9, 8, 8, 7, 6, 6, 6, 7, 8, 8, 8, 8, 8, 8, 8, 8, 10, 10, 10, 10, 10, 10, 10, 9, 8, 7, 6, 6, 5, 6, 7, 6, 6, 7, 7, 7, 8, 10, 9, 9, 9, 9, 9, 10, 10, 10, 10, 10, 10, 9, 9, 8, 8, 8, 8, 8, 8, 8, 9, 9, 9, 8, 8, 8, 8, 6, 6, 7, 6, 7, 6, 6, 6, 7, 8, 8, 7, 6, 7, 7, 7, 7, 7, 8, 9, 8, 9, 8, 8, 7, 7, 8, 8, 8, 5, 4, 3, 2, 2, 2, 2, 2, 3, 3, 3, 3, 3, 2, 2, 3, 3, 4, 4, 4, 4, 3, 3, 5, 5, 5, 5, 7, 6, 6, 7, 6, 6, 5, 5, 5, 6, 5, 4, 5, 3, 3, 3, 3, 3, 3, 5, 6, 6, 6, 6, 6, 7, 6, 6, 5, 6, 6, 7, 7, 9, 9, 9, 8, 8, 8, 7, 7, 6, 6, 6, 7, 7, 8, 8, 8, 8, 8, 7, 9, 9, 9, 9, 9, 9, 8, 8, 8, 9, 8, 8, 8, 8, 8, 7, 7, 7, 8, 8, 9, 8, 8, 7, 6, 8, 8, 8, 8, 8, 9, 9, 9, 9, 9, 9, 8, 7, 6, 6, 6, 7, 7, 7, 8, 9, 10, 9, 9, 9, 9, 9, 10, 9, 8, 8, 8, 7, 6, 6, 7, 7, 7, 8, 8, 8, 7, 7, 8, 7, 6, 6, 7, 6, 6, 8, 8, 8, 7, 6, 7, 7, 6, 6, 6, 6, 5, 5, 5, 6, 5, 4, 5, 4, 6, 6, 6, 5, 5, 5, 5, 7, 6, 5, 5, 5, 6, 6, 5, 6, 6, 7, 7, 8, 9, 9, 9, 9, 10, 10, 8, 8, 7, 7, 8, 8, 9, 8, 9, 9, 9, 9, 7, 7, 8, 8, 9, 10, 8, 8, 8, 8, 8, 9, 8, 8, 9, 8, 7, 7, 7, 8, 8, 9, 7, 8, 8, 8, 6, 7, 7, 7, 7, 8, 8, 8, 8, 9, 10, 9, 9, 8, 8, 8, 8, 8, 8, 9, 9, 10, 10, 9, 9, 9, 7, 7, 7, 7, 7, 7, 7, 8, 8, 8, 8, 9, 8, 8, 8, 8, 8, 8, 8, 8, 8, 10, 10, 10, 10, 10, 10, 9, 9, 9, 9, 8, 8, 8, 8, 7, 7, 5, 5, 7, 7, 7, 5, 5, 5, 7, 7, 7, 7, 8, 8, 8, 8, 8, 9, 8, 8, 8, 7, 8, 8, 9, 8, 7, 7, 7, 8, 8, 9, 9, 8, 8, 9]\n"
     ]
    }
   ],
   "source": [
    "print(observation_times[1])\n",
    "print(observation_cost[-1])\n",
    "print(observation_spares)"
   ]
  },
  {
   "cell_type": "markdown",
   "id": "34ca848a",
   "metadata": {},
   "source": [
    "1.The first failure for all 50 machines will happen between 100 and 150 hours. It will completely exhaust our spares and it will slowly replenish the machines as those spares become available.\n",
    "2.In a longer term,it looks the failure time of these 50 machines get more distributed over time."
   ]
  }
 ],
 "metadata": {
  "kernelspec": {
   "display_name": "Python 3 (ipykernel)",
   "language": "python",
   "name": "python3"
  },
  "language_info": {
   "codemirror_mode": {
    "name": "ipython",
    "version": 3
   },
   "file_extension": ".py",
   "mimetype": "text/x-python",
   "name": "python",
   "nbconvert_exporter": "python",
   "pygments_lexer": "ipython3",
   "version": "3.9.7"
  }
 },
 "nbformat": 4,
 "nbformat_minor": 5
}
